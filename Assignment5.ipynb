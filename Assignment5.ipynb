{
 "cells": [
  {
   "cell_type": "markdown",
   "id": "40b06f0e-a2ef-4242-9e12-2e7b080142f7",
   "metadata": {},
   "source": [
    "Palindrome Detector"
   ]
  },
  {
   "cell_type": "code",
   "execution_count": 26,
   "id": "76c3f0b0-429c-4b0e-adaf-7607123ad5a7",
   "metadata": {},
   "outputs": [
    {
     "name": "stdin",
     "output_type": "stream",
     "text": [
      "Type in a word: RaCECAr   \n"
     ]
    },
    {
     "name": "stdout",
     "output_type": "stream",
     "text": [
      "This word is a palindrome\n"
     ]
    }
   ],
   "source": [
    "word = input(\"Type in a word:\")\n",
    "word = word.lower()\n",
    "word = word.strip()\n",
    "word_list = []\n",
    "word_list_reverse = []\n",
    "\n",
    "for char in word:\n",
    "    word_list.append(char)\n",
    "\n",
    "word_list_reverse = word_list.copy()\n",
    "word_list_reverse.reverse()\n",
    "\n",
    "if word_list == word_list_reverse:\n",
    "    print(\"This word is a palindrome\")\n",
    "else:\n",
    "    print(\"This word is not a palindrome:\")"
   ]
  },
  {
   "cell_type": "markdown",
   "id": "f8d7ec89-8751-4572-9660-bab8ac8c2421",
   "metadata": {},
   "source": [
    "Password Generator"
   ]
  },
  {
   "cell_type": "code",
   "execution_count": 39,
   "id": "e1882d07-559e-4bce-91e4-ec666b6e4a01",
   "metadata": {},
   "outputs": [
    {
     "name": "stdin",
     "output_type": "stream",
     "text": [
      "How many characters do you want in your random password? 10\n"
     ]
    },
    {
     "name": "stdout",
     "output_type": "stream",
     "text": [
      "Here is your random password: qP9k^gCu@0\n"
     ]
    }
   ],
   "source": [
    "import random\n",
    "pass_length = int( input(\"How many characters do you want in your random password?\"))\n",
    "# pass_length = int(pass_length)\n",
    "pass_word = \"AaBbCcDdEeFfGgHhIiJjKkLlMmNnOoPpQqRrSsTtUuVvWwXxYyZz!@#$%^&*1234567890\"\n",
    "pass_list = []\n",
    "for char in pass_word:\n",
    "    pass_list.append(char)\n",
    "pass_list_random = pass_list.copy()\n",
    "pass_list_random = random.sample(pass_list_random, pass_length)\n",
    "separator = ''\n",
    "password = separator.join(pass_list_random)\n",
    "print(f\"Here is your random password: {password}\")"
   ]
  },
  {
   "cell_type": "markdown",
   "id": "4c79ce85-6d0d-42cd-9716-b557100196b1",
   "metadata": {},
   "source": [
    "Century Age Calculator"
   ]
  },
  {
   "cell_type": "markdown",
   "id": "aaefc0cb-9a57-40a0-a840-702195ee52e3",
   "metadata": {},
   "source": [
    "name = input(\"Enter your name:\")\n",
    "age = int(input(\"Enter your age:\"))\n",
    "year = 2024\n",
    "x = 99 - age\n",
    "year_100 = 2024 + x\n",
    "print(f\"Hello {name}! You will turn 100 in the year {year_100}!\")"
   ]
  },
  {
   "cell_type": "markdown",
   "id": "45b1e5ea-ddc9-4c20-92bb-faee4300b238",
   "metadata": {},
   "source": [
    "Formatted String"
   ]
  },
  {
   "cell_type": "code",
   "execution_count": 44,
   "id": "93a795e4-e87f-4992-8600-d0da46d1b540",
   "metadata": {},
   "outputs": [
    {
     "name": "stdout",
     "output_type": "stream",
     "text": [
      "\"The world is round\", said the quick brown fox, 'and the ocean is blue', said the lazy dog\n"
     ]
    }
   ],
   "source": [
    "print(f\"\\\"The world is round\\\", said the quick brown fox, \\'and the ocean is blue\\', said the lazy dog\")"
   ]
  },
  {
   "cell_type": "markdown",
   "id": "8c1beb7e-96f2-4da5-b474-a9df45e8e073",
   "metadata": {},
   "source": [
    "Division"
   ]
  },
  {
   "cell_type": "code",
   "execution_count": 49,
   "id": "b68c18a8-b7d2-46ae-9836-27ca09fba57b",
   "metadata": {},
   "outputs": [
    {
     "name": "stdin",
     "output_type": "stream",
     "text": [
      "Enter a numerator: 72\n",
      "Enter a denominator that is not 0: 7\n"
     ]
    },
    {
     "name": "stdout",
     "output_type": "stream",
     "text": [
      "The answer is +10.29\n"
     ]
    }
   ],
   "source": [
    "num = float(input(\"Enter a numerator:\"))\n",
    "den = float(input(\"Enter a denominator that is not 0:\"))\n",
    "result = num/den\n",
    "formatted_result = round(result,2)\n",
    "\n",
    "if formatted_result > 0:\n",
    "    print(f\"The answer is +{formatted_result}\")\n",
    "else:\n",
    "    print(f\"The answer is {formatted_result}\")"
   ]
  },
  {
   "cell_type": "markdown",
   "id": "9288fbb4-4fcf-4c31-9d11-dd976f7fab87",
   "metadata": {},
   "source": [
    "Dot Product Calculator"
   ]
  },
  {
   "cell_type": "code",
   "execution_count": 22,
   "id": "fa650791-1474-42bd-b50d-30ad41fd3366",
   "metadata": {},
   "outputs": [
    {
     "name": "stdout",
     "output_type": "stream",
     "text": [
      "[19, 22]\n",
      "[43, 50]\n"
     ]
    }
   ],
   "source": [
    "# Check if the matrices are compatible\n",
    "def dot_product(matrix1, matrix2):\n",
    "    if len(matrix1[0]) != len(matrix2):\n",
    "        raise Error(\"Number of columns in the first matrix must equal the number of rows in the second matrix\")\n",
    "\n",
    "# Multiply columns and rows\n",
    "    result = []\n",
    "    for i in range(len(matrix1)):\n",
    "        row = []\n",
    "        for j in range(len(matrix2[0])):\n",
    "            sum = 0\n",
    "            for k in range(len(matrix1[0])):\n",
    "                sum += matrix1[i][k] * matrix2[k][j]\n",
    "            row.append(sum)\n",
    "        result.append(row)\n",
    "    return result\n",
    "\n",
    "matrix1 = [[1, 2],\n",
    "           [3, 4]]\n",
    "\n",
    "matrix2 = [[5, 6],\n",
    "           [7, 8]]\n",
    "\n",
    "result = dot_product(matrix1, matrix2)\n",
    "for row in result:\n",
    "    print(row)\n"
   ]
  },
  {
   "cell_type": "markdown",
   "id": "fd45d706-e03b-428d-8e56-c2b241fc4f6c",
   "metadata": {},
   "source": [
    "Testing\n"
   ]
  },
  {
   "cell_type": "code",
   "execution_count": 9,
   "id": "17a15a40-a63f-4009-a9b7-eff34a386cba",
   "metadata": {},
   "outputs": [
    {
     "name": "stdin",
     "output_type": "stream",
     "text": [
      " [[1,2],[3,4]]\n"
     ]
    },
    {
     "name": "stdout",
     "output_type": "stream",
     "text": [
      "13\n"
     ]
    }
   ],
   "source": [
    "def countList(matrix):\n",
    "    return len(matrix)\n",
    "\n",
    "matrix = input()\n",
    "print(countList(matrix))"
   ]
  },
  {
   "cell_type": "markdown",
   "id": "2ec7c92c-a453-468d-a608-c346e53d0e71",
   "metadata": {},
   "source": [
    "Appended Letters"
   ]
  },
  {
   "cell_type": "code",
   "execution_count": 57,
   "id": "ca2bf393-fef7-4659-af25-bace527c80d0",
   "metadata": {},
   "outputs": [
    {
     "name": "stdout",
     "output_type": "stream",
     "text": [
      "['Dr.Phil', 'Dr.Oz', 'Dr.Seuss', 'Dr.Johnsen', 'Dr.Morelock']\n"
     ]
    }
   ],
   "source": [
    "dr_list = [\"Dr.\"]*5\n",
    "names_list = [\"Phil\",\"Oz\",\"Seuss\",\"Johnsen\",\"Morelock\"]\n",
    "updated_docs = names_list.copy()\n",
    "for i in range(len(names_list)):\n",
    "    updated_docs[i] = dr_list[i] + \"\" + names_list[i]\n",
    "\n",
    "print(updated_docs)"
   ]
  }
 ],
 "metadata": {
  "kernelspec": {
   "display_name": "base",
   "language": "python",
   "name": "base"
  },
  "language_info": {
   "codemirror_mode": {
    "name": "ipython",
    "version": 3
   },
   "file_extension": ".py",
   "mimetype": "text/x-python",
   "name": "python",
   "nbconvert_exporter": "python",
   "pygments_lexer": "ipython3",
   "version": "3.11.5"
  }
 },
 "nbformat": 4,
 "nbformat_minor": 5
}
