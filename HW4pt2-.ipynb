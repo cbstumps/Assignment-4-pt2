{
 "cells": [
  {
   "cell_type": "code",
   "execution_count": 22,
   "id": "b9542af2-060d-4373-a941-b1c22648537c",
   "metadata": {},
   "outputs": [
    {
     "name": "stdin",
     "output_type": "stream",
     "text": [
      "Enter the coefficient a for the quadratic equation: 1\n",
      "Enter the coefficient b for the quadratic equation: 4\n",
      "Enter the coefficient c for the quadratic equation: 4\n"
     ]
    },
    {
     "name": "stdout",
     "output_type": "stream",
     "text": [
      "The roots of x are: -2.0 and -2.0\n"
     ]
    }
   ],
   "source": [
    "a = input(\"Enter the coefficient a for the quadratic equation:\")\n",
    "b = input(\"Enter the coefficient b for the quadratic equation:\")\n",
    "c = input(\"Enter the coefficient c for the quadratic equation:\")\n",
    "a = int(a)\n",
    "b = int(b)\n",
    "c = int(c)\n",
    "print(f\"The roots of x are: {((-b)+((b**2)-(4*a*c))**.5)/(2*a)} and {((-b)-((b**2)-(4*a*c))**.5)/(2*a)}\")"
   ]
  },
  {
   "cell_type": "markdown",
   "id": "a1f6b78d-c956-457d-b390-2936c3897d66",
   "metadata": {},
   "source": [
    "BMI Calculator"
   ]
  },
  {
   "cell_type": "code",
   "execution_count": 25,
   "id": "b6c7ff4b-0f94-4077-8108-9a928b9ed03e",
   "metadata": {},
   "outputs": [
    {
     "name": "stdin",
     "output_type": "stream",
     "text": [
      "Enter your weight in pounds: 175\n",
      "Enter your height in inches: 68\n"
     ]
    },
    {
     "name": "stdout",
     "output_type": "stream",
     "text": [
      "Your BMI is: 26.563196847366402\n"
     ]
    }
   ],
   "source": [
    "weight = input(\"Enter your weight in pounds:\")\n",
    "height = input(\"Enter your height in inches:\")\n",
    "weight = int(weight)\n",
    "height = int(height)\n",
    "height_m = height/39.34\n",
    "weight_kg = weight/2.205\n",
    "print(f\"Your BMI is: {(weight_kg)/(height_m**2)}\")"
   ]
  },
  {
   "cell_type": "markdown",
   "id": "2959f24e-66b8-4376-a88f-928e8bab1285",
   "metadata": {},
   "source": [
    "Lists"
   ]
  },
  {
   "cell_type": "code",
   "execution_count": 27,
   "id": "3e1a1e1b-d02f-44ca-b33e-df986cb1db0d",
   "metadata": {},
   "outputs": [
    {
     "name": "stdout",
     "output_type": "stream",
     "text": [
      "[9, 0, 8, 6, 7, 4, 5, 2, 3]\n"
     ]
    }
   ],
   "source": [
    "my_list = [9,0,8,6,7,4,5,2,3,1]\n",
    "print(my_list[0:9])"
   ]
  },
  {
   "cell_type": "code",
   "execution_count": 28,
   "id": "a14ce335-51a7-4cbd-ba72-12c8b756f867",
   "metadata": {},
   "outputs": [
    {
     "name": "stdout",
     "output_type": "stream",
     "text": [
      "3.605551275463989\n"
     ]
    }
   ],
   "source": [
    "x = my_list[0]\n",
    "y = my_list[5]\n",
    "print((x+y)**.5)"
   ]
  },
  {
   "cell_type": "code",
   "execution_count": 29,
   "id": "6ed81638-6685-4a6d-838a-bb9939e55dbc",
   "metadata": {},
   "outputs": [
    {
     "name": "stdout",
     "output_type": "stream",
     "text": [
      "[9, 4, 3.605551275463989]\n"
     ]
    }
   ],
   "source": [
    "list_2 = [x,y,((x+y)**.5)]\n",
    "print(list_2)"
   ]
  },
  {
   "cell_type": "code",
   "execution_count": 31,
   "id": "bc1d9848-fb2e-440f-8fd8-e9c09077025a",
   "metadata": {},
   "outputs": [
    {
     "name": "stdout",
     "output_type": "stream",
     "text": [
      "[3.605551275463989, 4, 9]\n"
     ]
    }
   ],
   "source": [
    "list_2.reverse()\n",
    "print(list_2)"
   ]
  },
  {
   "cell_type": "code",
   "execution_count": 32,
   "id": "58f4ae50-e79e-47d9-9d43-f14c0ae409c1",
   "metadata": {},
   "outputs": [
    {
     "name": "stdout",
     "output_type": "stream",
     "text": [
      "[9, 7, 5, 3, 1]\n"
     ]
    }
   ],
   "source": [
    "odd_indexed_list = [my_list[0],my_list[4],my_list[6],my_list[8],my_list[9]]\n",
    "print(odd_indexed_list)"
   ]
  },
  {
   "cell_type": "code",
   "execution_count": 33,
   "id": "d9eaef90-65f9-4445-b79b-2ec56b854507",
   "metadata": {},
   "outputs": [
    {
     "name": "stdout",
     "output_type": "stream",
     "text": [
      "[1, 3, 5, 7, 9]\n"
     ]
    }
   ],
   "source": [
    "#Can also use sort but reverse was also usable here to put in ascending order\n",
    "odd_indexed_list.reverse()\n",
    "print(odd_indexed_list)"
   ]
  },
  {
   "cell_type": "code",
   "execution_count": 35,
   "id": "14b0cca3-caa9-4239-b8e1-9185910d1c3a",
   "metadata": {},
   "outputs": [
    {
     "name": "stdout",
     "output_type": "stream",
     "text": [
      "[1, 3, 5, 7, 9, 11, 15, 13, 11, 15, 13]\n",
      "11\n"
     ]
    }
   ],
   "source": [
    "extend_list = [11,15,13]\n",
    "odd_indexed_list += extend_list\n",
    "print(odd_indexed_list)\n",
    "print(len(odd_indexed_list))"
   ]
  },
  {
   "cell_type": "code",
   "execution_count": 37,
   "id": "f45d3fd7-ca8e-4df6-87e5-96b5b3f6fa74",
   "metadata": {},
   "outputs": [],
   "source": [
    "del my_list"
   ]
  },
  {
   "cell_type": "markdown",
   "id": "cae0f224-d28b-45ec-b576-0f3277b4e4dd",
   "metadata": {},
   "source": [
    "Random Library"
   ]
  },
  {
   "cell_type": "code",
   "execution_count": 42,
   "id": "dc1f219e-6666-4c87-b50f-4b0bbe1e9679",
   "metadata": {},
   "outputs": [
    {
     "name": "stdout",
     "output_type": "stream",
     "text": [
      "['chicken', 'banana pepper', 'pepperoni']\n"
     ]
    }
   ],
   "source": [
    "import random\n",
    "toppings = [\"pepperoni\", \"banana pepper\", \"sausage\", \"onion\", \"green pepper\", \"olives\", \"ham\", \"chicken\", \"jalapeno\", \"pineapple\"]\n",
    "print(random.sample(toppings, 3))"
   ]
  },
  {
   "cell_type": "code",
   "execution_count": 51,
   "id": "2c49474d-f5cf-4dac-b06d-b9d661eea0e8",
   "metadata": {},
   "outputs": [
    {
     "name": "stdout",
     "output_type": "stream",
     "text": [
      "['Clocked $$', 'Trapeze Pub $$', 'South Bar Kitchen $$$', 'The Globe $$', 'Mamas Boy $$']\n",
      "We will go to Clocked $$ tonight\n"
     ]
    }
   ],
   "source": [
    "restaurants = ['Clocked $$', 'Trapeze Pub $$', 'South Bar Kitchen $$$', 'Mamas Boy $$', 'The Globe $$']\n",
    "random.shuffle(restaurants)\n",
    "print(restaurants)\n",
    "print(f\"We will go to {restaurants[0]} tonight\")"
   ]
  },
  {
   "cell_type": "code",
   "execution_count": 61,
   "id": "4824b307-7391-4f8e-ae9f-49b95f40ecbb",
   "metadata": {},
   "outputs": [
    {
     "name": "stdout",
     "output_type": "stream",
     "text": [
      "chilling\n"
     ]
    }
   ],
   "source": [
    "activities = ['swimming','biking','hiking','chilling','running','tennis','pickleball','drinking','studying','basketball']\n",
    "random_activity = random.choice(activities)\n",
    "print(random_activity)"
   ]
  },
  {
   "cell_type": "code",
   "execution_count": null,
   "id": "4bb41401-92de-41f8-8664-3165be904939",
   "metadata": {},
   "outputs": [],
   "source": []
  }
 ],
 "metadata": {
  "kernelspec": {
   "display_name": "base",
   "language": "python",
   "name": "base"
  },
  "language_info": {
   "codemirror_mode": {
    "name": "ipython",
    "version": 3
   },
   "file_extension": ".py",
   "mimetype": "text/x-python",
   "name": "python",
   "nbconvert_exporter": "python",
   "pygments_lexer": "ipython3",
   "version": "3.11.5"
  }
 },
 "nbformat": 4,
 "nbformat_minor": 5
}
